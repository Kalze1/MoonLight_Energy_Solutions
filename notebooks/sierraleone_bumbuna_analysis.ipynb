{
 "cells": [
  {
   "cell_type": "code",
   "execution_count": 1,
   "metadata": {},
   "outputs": [
    {
     "name": "stdout",
     "output_type": "stream",
     "text": [
      "                  count        mean         std    min    25%     50%     75%  \\\n",
      "GHI            525600.0  201.957515  298.495150  -19.5   -2.8     0.3   362.4   \n",
      "DNI            525600.0  116.376337  218.652659   -7.8   -0.3    -0.1   107.0   \n",
      "DHI            525600.0  113.720571  158.946032  -17.9   -3.8    -0.1   224.7   \n",
      "ModA           525600.0  206.643095  300.896893    0.0    0.0     3.6   359.5   \n",
      "ModB           525600.0  198.114691  288.889073    0.0    0.0     3.4   345.4   \n",
      "Tamb           525600.0   26.319394    4.398605   12.3   23.1    25.3    29.4   \n",
      "RH             525600.0   79.448857   20.520775    9.9   68.7    85.4    96.7   \n",
      "WS             525600.0    1.146113    1.239248    0.0    0.0     0.8     2.0   \n",
      "WSgust         525600.0    1.691606    1.617053    0.0    0.0     1.6     2.6   \n",
      "WSstdev        525600.0    0.363823    0.295000    0.0    0.0     0.4     0.6   \n",
      "WD             525600.0  133.044668  114.284792    0.0    0.0   161.5   234.1   \n",
      "WDstdev        525600.0    7.172220    7.535093    0.0    0.0     6.2    12.0   \n",
      "BP             525600.0  999.876469    2.104419  993.0  999.0  1000.0  1001.0   \n",
      "Cleaning       525600.0    0.000967    0.031074    0.0    0.0     0.0     0.0   \n",
      "Precipitation  525600.0    0.004806    0.047556    0.0    0.0     0.0     0.0   \n",
      "TModA          525600.0   32.504263   12.434899   10.7   23.5    26.6    40.9   \n",
      "TModB          525600.0   32.593091   12.009161   11.1   23.8    26.9    41.3   \n",
      "Comments            0.0         NaN         NaN    NaN    NaN     NaN     NaN   \n",
      "\n",
      "                  max  median  \n",
      "GHI            1499.0     0.3  \n",
      "DNI             946.0    -0.1  \n",
      "DHI             892.0    -0.1  \n",
      "ModA           1507.0     3.6  \n",
      "ModB           1473.0     3.4  \n",
      "Tamb             39.9    25.3  \n",
      "RH              100.0    85.4  \n",
      "WS               19.2     0.8  \n",
      "WSgust           23.9     1.6  \n",
      "WSstdev           4.1     0.4  \n",
      "WD              360.0   161.5  \n",
      "WDstdev          98.4     6.2  \n",
      "BP             1006.0  1000.0  \n",
      "Cleaning          1.0     0.0  \n",
      "Precipitation     2.4     0.0  \n",
      "TModA            72.8    26.6  \n",
      "TModB            70.4    26.9  \n",
      "Comments          NaN     NaN  \n"
     ]
    }
   ],
   "source": [
    "#Summary Statistics\n",
    "import sys\n",
    "import os\n",
    "\n",
    "script_dir = os.path.abspath('../scripts')  \n",
    "sys.path.append(script_dir)\n",
    "\n",
    "from data_summary import generate_summary\n",
    "\n",
    "file_path = '../data/sierraleone-bumbuna.csv'  \n",
    "summary_stats = generate_summary(file_path)\n",
    "\n",
    "# Display the summary statistics\n",
    "print(summary_stats)\n"
   ]
  },
  {
   "cell_type": "code",
   "execution_count": null,
   "metadata": {},
   "outputs": [],
   "source": [
    "#Data Quality Check\n",
    "from Data_Quality_Check import data_quality_analysis  \n",
    "\n",
    "results = data_quality_analysis(file_path)\n",
    "\n",
    "if results:\n",
    "    print(\"Missing Values:\")\n",
    "    print(results['missing_values'])\n",
    "    print(\"\\nInvalid (Negative) Values:\")\n",
    "    print(results['invalid_values'])\n",
    "    print(\"\\nOutliers Detected:\")\n",
    "    print(results['outliers'])\n"
   ]
  },
  {
   "cell_type": "code",
   "execution_count": null,
   "metadata": {},
   "outputs": [],
   "source": [
    "# Time Series Analysis\n",
    "from Time_Series_Analysis import plot_solar_data  \n",
    "\n",
    "plot_solar_data(file_path)\n"
   ]
  },
  {
   "cell_type": "code",
   "execution_count": null,
   "metadata": {},
   "outputs": [],
   "source": [
    "#  Evaluate the impact of cleaning\n",
    "from Impact_of_Cleaning import analyze_and_plot\n",
    "analyze_and_plot(file_path)"
   ]
  },
  {
   "cell_type": "code",
   "execution_count": null,
   "metadata": {},
   "outputs": [],
   "source": [
    "# Correlation Analysis\n",
    "from Correlation_Analysis import analyze_and_plot_correlation  \n",
    "\n",
    "analyze_and_plot_correlation(file_path)\n"
   ]
  },
  {
   "cell_type": "code",
   "execution_count": null,
   "metadata": {},
   "outputs": [],
   "source": [
    "#wind analysis \n",
    "from Wind_Analysis import plot_wind_distribution  \n",
    "\n",
    "plot_wind_distribution(file_path)"
   ]
  },
  {
   "cell_type": "code",
   "execution_count": null,
   "metadata": {},
   "outputs": [],
   "source": [
    "#Temperature Analysis\n",
    "from Temperature_Analysis import analyze_and_plot_relationships  \n",
    "\n",
    "analyze_and_plot_relationships(file_path)"
   ]
  },
  {
   "cell_type": "code",
   "execution_count": null,
   "metadata": {},
   "outputs": [],
   "source": [
    "#Histograms of temperatures\n",
    "from Histograms_temperatures import plot_distributions  \n",
    "\n",
    "plot_distributions(file_path)"
   ]
  },
  {
   "cell_type": "code",
   "execution_count": null,
   "metadata": {},
   "outputs": [],
   "source": [
    "#Z Score Analysis \n",
    "columns = ['GHI', 'DNI', 'DHI', 'ModA', 'ModB', 'Tamb', 'RH', 'WS', 'WSgust', 'WSstdev', 'WD', 'WDstdev', 'BP', 'TModA', 'TModB']\n",
    "from Z_Score_Analysis import detect_and_save_outliers  \n",
    "output_file_path = '../results/z_Score_result_benin_malanville.csv'  \n",
    "\n",
    "detect_and_save_outliers(file_path,output_file_path,columns)"
   ]
  },
  {
   "cell_type": "code",
   "execution_count": null,
   "metadata": {},
   "outputs": [],
   "source": [
    "#Bubble charts\n",
    "from Bubble_charts import plot_bubble_chart  \n",
    "\n",
    "plot_bubble_chart(file_path)"
   ]
  },
  {
   "cell_type": "code",
   "execution_count": null,
   "metadata": {},
   "outputs": [],
   "source": [
    "#Data Cleaning \n",
    "from Data_Cleaning import clean_and_save_data  \n",
    "output_file_path = '../results/result_benin_malanville.csv'  \n",
    "\n",
    "clean_and_save_data(file_path,output_file_path)"
   ]
  }
 ],
 "metadata": {
  "kernelspec": {
   "display_name": "week_0",
   "language": "python",
   "name": "python3"
  },
  "language_info": {
   "codemirror_mode": {
    "name": "ipython",
    "version": 3
   },
   "file_extension": ".py",
   "mimetype": "text/x-python",
   "name": "python",
   "nbconvert_exporter": "python",
   "pygments_lexer": "ipython3",
   "version": "3.12.5"
  }
 },
 "nbformat": 4,
 "nbformat_minor": 2
}
