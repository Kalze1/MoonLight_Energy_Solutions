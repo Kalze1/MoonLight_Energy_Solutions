{
 "cells": [
  {
   "cell_type": "code",
   "execution_count": 1,
   "metadata": {},
   "outputs": [
    {
     "name": "stdout",
     "output_type": "stream",
     "text": [
      "                  count        mean         std    min    25%    50%    75%  \\\n",
      "GHI            525600.0  240.559452  331.131327  -12.9   -2.0    1.8  483.4   \n",
      "DNI            525600.0  167.187516  261.710501   -7.8   -0.5   -0.1  314.2   \n",
      "DHI            525600.0  115.358961  158.691074  -12.6   -2.1    1.6  216.3   \n",
      "ModA           525600.0  236.589496  326.894859    0.0    0.0    4.5  463.7   \n",
      "ModB           525600.0  228.883576  316.536515    0.0    0.0    4.3  447.9   \n",
      "Tamb           525600.0   28.179683    5.924297   11.0   24.2   28.0   32.3   \n",
      "RH             525600.0   54.487969   28.073069    2.1   28.8   55.1   80.1   \n",
      "WS             525600.0    2.121113    1.603466    0.0    1.0    1.9    3.1   \n",
      "WSgust         525600.0    2.809195    2.029120    0.0    1.3    2.6    4.1   \n",
      "WSstdev        525600.0    0.473390    0.273395    0.0    0.4    0.5    0.6   \n",
      "WD             525600.0  153.435172  102.332842    0.0   59.0  181.0  235.1   \n",
      "WDstdev        525600.0    8.582407    6.385864    0.0    3.7    8.6   12.3   \n",
      "BP             525600.0  994.197199    2.474993  985.0  993.0  994.0  996.0   \n",
      "Cleaning       525600.0    0.000923    0.030363    0.0    0.0    0.0    0.0   \n",
      "Precipitation  525600.0    0.001905    0.037115    0.0    0.0    0.0    0.0   \n",
      "TModA          525600.0   35.246026   14.807258    9.0   24.2   30.0   46.9   \n",
      "TModB          525600.0   32.471736   12.348743    8.1   23.6   28.9   41.5   \n",
      "Comments            0.0         NaN         NaN    NaN    NaN    NaN    NaN   \n",
      "\n",
      "                  max  median  \n",
      "GHI            1413.0     1.8  \n",
      "DNI             952.3    -0.1  \n",
      "DHI             759.2     1.6  \n",
      "ModA           1342.3     4.5  \n",
      "ModB           1342.3     4.3  \n",
      "Tamb             43.8    28.0  \n",
      "RH              100.0    55.1  \n",
      "WS               19.5     1.9  \n",
      "WSgust           26.6     2.6  \n",
      "WSstdev           4.2     0.5  \n",
      "WD              360.0   181.0  \n",
      "WDstdev          99.4     8.6  \n",
      "BP             1003.0   994.0  \n",
      "Cleaning          1.0     0.0  \n",
      "Precipitation     2.5     0.0  \n",
      "TModA            81.0    30.0  \n",
      "TModB            72.5    28.9  \n",
      "Comments          NaN     NaN  \n"
     ]
    }
   ],
   "source": [
    "#Summary Statistics\n",
    "import sys\n",
    "import os\n",
    "\n",
    "script_dir = os.path.abspath('../scripts')  \n",
    "sys.path.append(script_dir)\n",
    "\n",
    "from data_summary import generate_summary\n",
    "\n",
    "file_path = '../data/benin-malanville.csv'  \n",
    "summary_stats = generate_summary(file_path)\n",
    "\n",
    "# Display the summary statistics\n",
    "print(summary_stats)\n"
   ]
  },
  {
   "cell_type": "code",
   "execution_count": null,
   "metadata": {},
   "outputs": [],
   "source": [
    "#Data Quality Check\n",
    "from Data_Quality_Check import data_quality_analysis  \n",
    "\n",
    "results = data_quality_analysis(file_path)\n",
    "\n",
    "if results:\n",
    "    print(\"Missing Values:\")\n",
    "    print(results['missing_values'])\n",
    "    print(\"\\nInvalid (Negative) Values:\")\n",
    "    print(results['invalid_values'])\n",
    "    print(\"\\nOutliers Detected:\")\n",
    "    print(results['outliers'])\n"
   ]
  },
  {
   "cell_type": "code",
   "execution_count": null,
   "metadata": {},
   "outputs": [],
   "source": [
    "# Time Series Analysis\n",
    "from Time_Series_Analysis import plot_solar_data  \n",
    "\n",
    "plot_solar_data(file_path)\n"
   ]
  },
  {
   "cell_type": "code",
   "execution_count": null,
   "metadata": {},
   "outputs": [],
   "source": [
    "#  Evaluate the impact of cleaning\n",
    "from Impact_of_Cleaning import analyze_and_plot\n",
    "analyze_and_plot(file_path)"
   ]
  },
  {
   "cell_type": "code",
   "execution_count": null,
   "metadata": {},
   "outputs": [],
   "source": [
    "# Correlation Analysis\n",
    "from Correlation_Analysis import analyze_and_plot_correlation  \n",
    "\n",
    "analyze_and_plot_correlation(file_path)\n"
   ]
  },
  {
   "cell_type": "code",
   "execution_count": null,
   "metadata": {},
   "outputs": [],
   "source": [
    "#wind analysis \n",
    "from Wind_Analysis import plot_wind_distribution  \n",
    "\n",
    "plot_wind_distribution(file_path)"
   ]
  },
  {
   "cell_type": "code",
   "execution_count": null,
   "metadata": {},
   "outputs": [],
   "source": [
    "#Temperature Analysis\n",
    "from Temperature_Analysis import analyze_and_plot_relationships  \n",
    "\n",
    "analyze_and_plot_relationships(file_path)"
   ]
  },
  {
   "cell_type": "code",
   "execution_count": null,
   "metadata": {},
   "outputs": [],
   "source": [
    "#Histograms of temperatures\n",
    "from Histograms_temperatures import plot_distributions  \n",
    "\n",
    "plot_distributions(file_path)"
   ]
  },
  {
   "cell_type": "code",
   "execution_count": null,
   "metadata": {},
   "outputs": [],
   "source": [
    "#Z Score Analysis \n",
    "columns = ['GHI', 'DNI', 'DHI', 'ModA', 'ModB', 'Tamb', 'RH', 'WS', 'WSgust', 'WSstdev', 'WD', 'WDstdev', 'BP', 'TModA', 'TModB']\n",
    "from Z_Score_Analysis import detect_and_save_outliers  \n",
    "output_file_path = '../results/z_Score_result_benin_malanville.csv'  \n",
    "\n",
    "detect_and_save_outliers(file_path,output_file_path,columns)"
   ]
  },
  {
   "cell_type": "code",
   "execution_count": null,
   "metadata": {},
   "outputs": [],
   "source": [
    "#Bubble charts\n",
    "from Bubble_charts import plot_bubble_chart  \n",
    "\n",
    "plot_bubble_chart(file_path)"
   ]
  },
  {
   "cell_type": "code",
   "execution_count": null,
   "metadata": {},
   "outputs": [],
   "source": [
    "#Data Cleaning \n",
    "from Data_Cleaning import clean_and_save_data  \n",
    "output_file_path = '../results/result_benin_malanville.csv'  \n",
    "\n",
    "clean_and_save_data(file_path,output_file_path)"
   ]
  }
 ],
 "metadata": {
  "kernelspec": {
   "display_name": "week_0",
   "language": "python",
   "name": "python3"
  },
  "language_info": {
   "codemirror_mode": {
    "name": "ipython",
    "version": 3
   },
   "file_extension": ".py",
   "mimetype": "text/x-python",
   "name": "python",
   "nbconvert_exporter": "python",
   "pygments_lexer": "ipython3",
   "version": "3.12.5"
  }
 },
 "nbformat": 4,
 "nbformat_minor": 2
}
