{
 "cells": [
  {
   "cell_type": "code",
   "execution_count": null,
   "metadata": {},
   "outputs": [],
   "source": [
    "import sys\n",
    "import os\n",
    "\n",
    "script_dir = os.path.abspath('../scripts')  \n",
    "sys.path.append(script_dir)\n",
    "\n",
    "from data_summary import generate_summary\n",
    "\n",
    "file_path = '../data/benin-malanville.csv'  \n",
    "summary_stats = generate_summary(file_path)\n",
    "\n",
    "# Display the summary statistics\n",
    "print(summary_stats)\n"
   ]
  },
  {
   "cell_type": "code",
   "execution_count": null,
   "metadata": {},
   "outputs": [],
   "source": [
    "from Data_Quality_Check import data_quality_analysis  \n",
    "\n",
    "file_path = r'../data/benin-malanville.csv'\n",
    "results = data_quality_analysis(file_path)\n",
    "\n",
    "if results:\n",
    "    print(\"Missing Values:\")\n",
    "    print(results['missing_values'])\n",
    "    print(\"\\nInvalid (Negative) Values:\")\n",
    "    print(results['invalid_values'])\n",
    "    print(\"\\nOutliers Detected:\")\n",
    "    print(results['outliers'])\n"
   ]
  },
  {
   "cell_type": "code",
   "execution_count": null,
   "metadata": {},
   "outputs": [],
   "source": [
    "from Time_Series_Analysis import plot_solar_data  \n",
    "\n",
    "file_path = r'../data/benin-malanville.csv'\n",
    "plot_solar_data(file_path)\n"
   ]
  },
  {
   "cell_type": "code",
   "execution_count": null,
   "metadata": {},
   "outputs": [],
   "source": [
    "from Correlation_Analysis import analyze_and_plot_correlation  \n",
    "\n",
    "file_path = r'../data/benin-malanville.csv'\n",
    "analyze_and_plot_correlation(file_path)\n"
   ]
  }
 ],
 "metadata": {
  "kernelspec": {
   "display_name": "week_0",
   "language": "python",
   "name": "python3"
  },
  "language_info": {
   "codemirror_mode": {
    "name": "ipython",
    "version": 3
   },
   "file_extension": ".py",
   "mimetype": "text/x-python",
   "name": "python",
   "nbconvert_exporter": "python",
   "pygments_lexer": "ipython3",
   "version": "3.12.5"
  }
 },
 "nbformat": 4,
 "nbformat_minor": 2
}
