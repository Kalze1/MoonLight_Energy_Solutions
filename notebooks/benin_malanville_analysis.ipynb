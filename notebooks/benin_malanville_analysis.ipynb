{
 "cells": [
  {
   "cell_type": "code",
   "execution_count": null,
   "metadata": {},
   "outputs": [],
   "source": [
    "#Summary Statistics\n",
    "import sys\n",
    "import os\n",
    "\n",
    "script_dir = os.path.abspath('../scripts')  \n",
    "sys.path.append(script_dir)\n",
    "\n",
    "from data_summary import generate_summary\n",
    "\n",
    "file_path = '../data/benin-malanville.csv'  \n",
    "summary_stats = generate_summary(file_path)\n",
    "\n",
    "# Display the summary statistics\n",
    "print(summary_stats)\n"
   ]
  },
  {
   "cell_type": "code",
   "execution_count": null,
   "metadata": {},
   "outputs": [],
   "source": [
    "#Data Quality Check\n",
    "from Data_Quality_Check import data_quality_analysis  \n",
    "\n",
    "results = data_quality_analysis(file_path)\n",
    "\n",
    "if results:\n",
    "    print(\"Missing Values:\")\n",
    "    print(results['missing_values'])\n",
    "    print(\"\\nInvalid (Negative) Values:\")\n",
    "    print(results['invalid_values'])\n",
    "    print(\"\\nOutliers Detected:\")\n",
    "    print(results['outliers'])\n"
   ]
  },
  {
   "cell_type": "code",
   "execution_count": null,
   "metadata": {},
   "outputs": [],
   "source": [
    "# Time Series Analysis\n",
    "from Time_Series_Analysis import plot_solar_data  \n",
    "\n",
    "plot_solar_data(file_path)\n"
   ]
  },
  {
   "cell_type": "code",
   "execution_count": null,
   "metadata": {},
   "outputs": [],
   "source": [
    "#  Evaluate the impact of cleaning\n",
    "from Impact_of_Cleaning import analyze_and_plot\n",
    "analyze_and_plot(file_path)"
   ]
  },
  {
   "cell_type": "code",
   "execution_count": null,
   "metadata": {},
   "outputs": [],
   "source": [
    "# Correlation Analysis\n",
    "from Correlation_Analysis import analyze_and_plot_correlation  \n",
    "\n",
    "analyze_and_plot_correlation(file_path)\n"
   ]
  },
  {
   "cell_type": "code",
   "execution_count": null,
   "metadata": {},
   "outputs": [],
   "source": [
    "#wind analysis \n",
    "from Wind_Analysis import plot_wind_distribution  \n",
    "\n",
    "plot_wind_distribution(file_path)"
   ]
  },
  {
   "cell_type": "code",
   "execution_count": null,
   "metadata": {},
   "outputs": [],
   "source": [
    "#Temperature Analysis\n",
    "from Temperature_Analysis import analyze_and_plot_relationships  \n",
    "\n",
    "analyze_and_plot_relationships(file_path)"
   ]
  },
  {
   "cell_type": "code",
   "execution_count": null,
   "metadata": {},
   "outputs": [],
   "source": [
    "#Histograms of temperatures\n",
    "from Histograms_temperatures import plot_distributions  \n",
    "\n",
    "plot_distributions(file_path)"
   ]
  },
  {
   "cell_type": "code",
   "execution_count": null,
   "metadata": {},
   "outputs": [],
   "source": [
    "#Z Score Analysis \n",
    "columns = ['GHI', 'DNI', 'DHI', 'ModA', 'ModB', 'Tamb', 'RH', 'WS', 'WSgust', 'WSstdev', 'WD', 'WDstdev', 'BP', 'TModA', 'TModB']\n",
    "from Z_Score_Analysis import detect_and_save_outliers  \n",
    "output_file_path = '../results/z_Score_result_benin_malanville.csv'  \n",
    "\n",
    "detect_and_save_outliers(file_path,output_file_path,columns)"
   ]
  },
  {
   "cell_type": "code",
   "execution_count": null,
   "metadata": {},
   "outputs": [],
   "source": [
    "#Bubble charts\n",
    "from Bubble_charts import plot_bubble_chart  \n",
    "\n",
    "plot_bubble_chart(file_path)"
   ]
  },
  {
   "cell_type": "code",
   "execution_count": null,
   "metadata": {},
   "outputs": [],
   "source": [
    "#Data Cleaning \n",
    "from Data_Cleaning import clean_and_save_data  \n",
    "output_file_path = '../results/result_benin_malanville.csv'  \n",
    "\n",
    "clean_and_save_data(file_path,output_file_path)"
   ]
  }
 ],
 "metadata": {
  "kernelspec": {
   "display_name": "week_0",
   "language": "python",
   "name": "python3"
  },
  "language_info": {
   "codemirror_mode": {
    "name": "ipython",
    "version": 3
   },
   "file_extension": ".py",
   "mimetype": "text/x-python",
   "name": "python",
   "nbconvert_exporter": "python",
   "pygments_lexer": "ipython3",
   "version": "3.12.5"
  }
 },
 "nbformat": 4,
 "nbformat_minor": 2
}
